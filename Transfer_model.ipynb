{
 "cells": [
  {
   "cell_type": "code",
   "execution_count": 1,
   "id": "bbbedc7b-7e18-4998-9871-00141ec1b70c",
   "metadata": {},
   "outputs": [],
   "source": [
    "import tensorflow as tf\n",
    "from tensorflow import keras\n",
    "from tensorflow.keras import layers"
   ]
  },
  {
   "cell_type": "code",
   "execution_count": 2,
   "id": "26b51fc0-4dd1-4cd3-8a1b-5a5115f6f32d",
   "metadata": {},
   "outputs": [],
   "source": [
    "%store -r model\n",
    "%store -r X\n",
    "%store -r y\n",
    "%store -r X_test\n",
    "%store -r y_test\n",
    "%store -r CNN_LSTM_model"
   ]
  },
  {
   "cell_type": "code",
   "execution_count": 3,
   "id": "115d7772-beb0-4542-821e-b4eef09e5855",
   "metadata": {},
   "outputs": [
    {
     "name": "stdout",
     "output_type": "stream",
     "text": [
      "Model: \"sequential\"\n",
      "_________________________________________________________________\n",
      " Layer (type)                Output Shape              Param #   \n",
      "=================================================================\n",
      " conv2d (Conv2D)             (None, 20, 128, 32)       832       \n",
      "                                                                 \n",
      " conv2d_1 (Conv2D)           (None, 20, 128, 32)       25632     \n",
      "                                                                 \n",
      " max_pooling2d (MaxPooling2  (None, 10, 64, 32)        0         \n",
      " D)                                                              \n",
      "                                                                 \n",
      " dropout (Dropout)           (None, 10, 64, 32)        0         \n",
      "                                                                 \n",
      " conv2d_2 (Conv2D)           (None, 10, 64, 64)        51264     \n",
      "                                                                 \n",
      " conv2d_3 (Conv2D)           (None, 10, 64, 64)        102464    \n",
      "                                                                 \n",
      " max_pooling2d_1 (MaxPoolin  (None, 5, 32, 64)         0         \n",
      " g2D)                                                            \n",
      "                                                                 \n",
      " flatten (Flatten)           (None, 10240)             0         \n",
      "                                                                 \n",
      " dense (Dense)               (None, 64)                655424    \n",
      "                                                                 \n",
      " dropout_1 (Dropout)         (None, 64)                0         \n",
      "                                                                 \n",
      " new_dense_layer (Dense)     (None, 5)                 325       \n",
      "                                                                 \n",
      "=================================================================\n",
      "Total params: 835941 (3.19 MB)\n",
      "Trainable params: 325 (1.27 KB)\n",
      "Non-trainable params: 835616 (3.19 MB)\n",
      "_________________________________________________________________\n"
     ]
    }
   ],
   "source": [
    "from tensorflow.keras.models import Model\n",
    "\n",
    "pretrained_model = model\n",
    "# Xóa lớp cuối cùng của mô hình đã được huấn luyện trước đó\n",
    "pretrained_model.pop()\n",
    "\n",
    "# Thêm lớp fully connected (Dense Layer) cuối cùng với số lớp phân loại mới\n",
    "num_new_classes = 5  # Số lớp ứng dụng mới cần phân loại\n",
    "pretrained_model.add(keras.layers.Dense(num_new_classes, activation='softmax', name='new_dense_layer'))\n",
    "\n",
    "# Đóng băng trọng số của các lớp trong mô hình đã được huấn luyện trước đó\n",
    "for layer in pretrained_model.layers[:-1]:\n",
    "    layer.trainable = False\n",
    "\n",
    "# In thông tin mô hình mới\n",
    "pretrained_model.summary()\n",
    "\n",
    "# Biên dịch mô hình mới\n",
    "pretrained_model.compile(optimizer='adam', loss='sparse_categorical_crossentropy', metrics=['accuracy'])"
   ]
  },
  {
   "cell_type": "code",
   "execution_count": 4,
   "id": "5f8e266d-55af-4c36-aac5-434d2b2fda9a",
   "metadata": {},
   "outputs": [
    {
     "name": "stdout",
     "output_type": "stream",
     "text": [
      "Epoch 1/10\n",
      "823/823 [==============================] - 28s 34ms/step - loss: 1.5280 - accuracy: 0.6434\n",
      "Epoch 2/10\n",
      "823/823 [==============================] - 29s 35ms/step - loss: 0.5545 - accuracy: 0.7857\n",
      "Epoch 3/10\n",
      "823/823 [==============================] - 29s 35ms/step - loss: 0.4958 - accuracy: 0.8043\n",
      "Epoch 4/10\n",
      "823/823 [==============================] - 29s 35ms/step - loss: 0.4714 - accuracy: 0.8154\n",
      "Epoch 5/10\n",
      "823/823 [==============================] - 30s 36ms/step - loss: 0.4757 - accuracy: 0.8164\n",
      "Epoch 6/10\n",
      "823/823 [==============================] - 30s 37ms/step - loss: 0.4747 - accuracy: 0.8195\n",
      "Epoch 7/10\n",
      "823/823 [==============================] - 31s 38ms/step - loss: 0.4668 - accuracy: 0.8202\n",
      "Epoch 8/10\n",
      "823/823 [==============================] - 30s 37ms/step - loss: 0.4766 - accuracy: 0.8142\n",
      "Epoch 9/10\n",
      "823/823 [==============================] - 28s 34ms/step - loss: 0.4711 - accuracy: 0.8179\n",
      "Epoch 10/10\n",
      "823/823 [==============================] - 31s 37ms/step - loss: 0.4665 - accuracy: 0.8185\n"
     ]
    },
    {
     "data": {
      "text/plain": [
       "<keras.src.callbacks.History at 0x1e08f1197d0>"
      ]
     },
     "execution_count": 4,
     "metadata": {},
     "output_type": "execute_result"
    }
   ],
   "source": [
    "pretrained_model.fit(X, y, epochs=10, batch_size=16)"
   ]
  },
  {
   "cell_type": "code",
   "execution_count": 5,
   "id": "175111c1-fdd8-4f01-bca1-51208d8684e8",
   "metadata": {
    "tags": []
   },
   "outputs": [
    {
     "name": "stdout",
     "output_type": "stream",
     "text": [
      "412/412 [==============================] - 28s 67ms/step - loss: 0.3620 - accuracy: 0.8775\n",
      "Độ chính xác trên tập kiểm tra: 0.8774874806404114\n",
      "412/412 [==============================] - 27s 64ms/step\n",
      "Ma trận nhầm lẫn:\n",
      "[[2840    0    0    0    2]\n",
      " [   0 1913    7   18   96]\n",
      " [   0   13 2446    0  349]\n",
      " [   0  322    6 1352   60]\n",
      " [  11   87  633    9 3002]]\n",
      "Báo cáo phân loại:\n",
      "              precision    recall  f1-score   support\n",
      "\n",
      "           0       1.00      1.00      1.00      2842\n",
      "           1       0.82      0.94      0.88      2034\n",
      "           2       0.79      0.87      0.83      2808\n",
      "           3       0.98      0.78      0.87      1740\n",
      "           4       0.86      0.80      0.83      3742\n",
      "\n",
      "    accuracy                           0.88     13166\n",
      "   macro avg       0.89      0.88      0.88     13166\n",
      "weighted avg       0.88      0.88      0.88     13166\n",
      "\n"
     ]
    }
   ],
   "source": [
    "import numpy as np\n",
    "\n",
    "# Đánh giá mô hình trên tập kiểm tra\n",
    "test_loss, test_accuracy = pretrained_model.evaluate(X_test, y_test)\n",
    "print(\"Độ chính xác trên tập kiểm tra:\", test_accuracy)\n",
    "\n",
    "# Dự đoán các nhãn trên tập kiểm tra\n",
    "y_pred = pretrained_model.predict(X_test)\n",
    "\n",
    "# Chuyển đổi dự đoán thành nhãn dự đoán (lớp dự đoán)\n",
    "y_pred_classes = np.argmax(y_pred, axis=1)\n",
    "\n",
    "# Hiển thị ma trận nhầm lẫn\n",
    "from sklearn.metrics import confusion_matrix, classification_report\n",
    "confusion = confusion_matrix(y_test, y_pred_classes)\n",
    "print(\"Ma trận nhầm lẫn:\")\n",
    "print(confusion)\n",
    "\n",
    "# Hiển thị báo cáo phân loại\n",
    "class_report = classification_report(y_test, y_pred_classes)\n",
    "print(\"Báo cáo phân loại:\")\n",
    "print(class_report)"
   ]
  },
  {
   "cell_type": "code",
   "execution_count": null,
   "id": "3fd437b2-824c-4887-bc4d-16164cdc2412",
   "metadata": {},
   "outputs": [],
   "source": []
  }
 ],
 "metadata": {
  "kernelspec": {
   "display_name": "Python 3 (ipykernel)",
   "language": "python",
   "name": "python3"
  },
  "language_info": {
   "codemirror_mode": {
    "name": "ipython",
    "version": 3
   },
   "file_extension": ".py",
   "mimetype": "text/x-python",
   "name": "python",
   "nbconvert_exporter": "python",
   "pygments_lexer": "ipython3",
   "version": "3.11.4"
  }
 },
 "nbformat": 4,
 "nbformat_minor": 5
}
