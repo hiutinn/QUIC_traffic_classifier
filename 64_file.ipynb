{
 "cells": [
  {
   "cell_type": "code",
   "execution_count": 1,
   "id": "268afa01-190f-464a-928e-a666be9d686e",
   "metadata": {},
   "outputs": [],
   "source": [
    "import pandas as pd\n",
    "import numpy as np\n",
    "\n",
    "# Đường dẫn đến file feather cần đọc\n",
    "file_path = 'GQUIC_small/dataset1/Train/train_Transfer_64.feather'\n",
    "\n",
    "# Đọc file feather\n",
    "df = pd.read_feather(file_path)"
   ]
  },
  {
   "cell_type": "code",
   "execution_count": 2,
   "id": "c50084e9-f388-489d-b94a-f5e9944c0f8e",
   "metadata": {},
   "outputs": [],
   "source": [
    "# Chọn cột '0' đến '127' cho mỗi flow_id và chuyển thành một danh sách các ma trận\n",
    "matrices = []\n",
    "labels = []\n",
    "for flow_id, group in df.groupby('flow_id'):\n",
    "    matrix = group.loc[:, '0':'63'].values\n",
    "    label = group['Label'].values[0] \n",
    "    matrices.append(matrix)\n",
    "    labels.append(label)\n",
    "\n",
    "# Chuyển danh sách ma trận thành mảng NumPy\n",
    "X = np.array(matrices)\n",
    "X = X / 255\n",
    "y = np.array(labels)"
   ]
  },
  {
   "cell_type": "code",
   "execution_count": 3,
   "id": "6e8857b6-8813-4350-bb1d-57772551bd04",
   "metadata": {},
   "outputs": [
    {
     "name": "stdout",
     "output_type": "stream",
     "text": [
      "Model: \"sequential\"\n",
      "_________________________________________________________________\n",
      " Layer (type)                Output Shape              Param #   \n",
      "=================================================================\n",
      " conv2d (Conv2D)             (None, 20, 64, 32)        320       \n",
      "                                                                 \n",
      " conv2d_1 (Conv2D)           (None, 20, 64, 32)        9248      \n",
      "                                                                 \n",
      " max_pooling2d (MaxPooling2  (None, 10, 32, 32)        0         \n",
      " D)                                                              \n",
      "                                                                 \n",
      " dropout (Dropout)           (None, 10, 32, 32)        0         \n",
      "                                                                 \n",
      " conv2d_2 (Conv2D)           (None, 10, 32, 64)        18496     \n",
      "                                                                 \n",
      " conv2d_3 (Conv2D)           (None, 10, 32, 64)        36928     \n",
      "                                                                 \n",
      " max_pooling2d_1 (MaxPoolin  (None, 5, 16, 64)         0         \n",
      " g2D)                                                            \n",
      "                                                                 \n",
      " flatten (Flatten)           (None, 5120)              0         \n",
      "                                                                 \n",
      " dense (Dense)               (None, 64)                327744    \n",
      "                                                                 \n",
      " dropout_1 (Dropout)         (None, 64)                0         \n",
      "                                                                 \n",
      " dense_1 (Dense)             (None, 5)                 325       \n",
      "                                                                 \n",
      "=================================================================\n",
      "Total params: 393061 (1.50 MB)\n",
      "Trainable params: 393061 (1.50 MB)\n",
      "Non-trainable params: 0 (0.00 Byte)\n",
      "_________________________________________________________________\n"
     ]
    }
   ],
   "source": [
    "# import tensorflow as tf\n",
    "from tensorflow import keras\n",
    "from tensorflow.keras import layers\n",
    "\n",
    "# Khởi tạo mô hình\n",
    "model = keras.Sequential()\n",
    "\n",
    "# Thêm lớp Convolutional Layer với 32 bộ lọc kích thước 3x3 và hàm kích hoạt ReLU\n",
    "model.add(layers.Conv2D(32, (3, 3), activation='relu', input_shape=(20, 64, 1), padding='same'))\n",
    "\n",
    "# Thêm lớp Convolutional Layer với 32 bộ lọc kích thước 3x3 và hàm kích hoạt ReLU\n",
    "model.add(layers.Conv2D(32, (3, 3), activation='relu', padding='same'))\n",
    "\n",
    "# Thêm lớp Max Pooling 2D để giảm kích thước đầu vào đi 2 lần\n",
    "model.add(layers.MaxPooling2D((2, 2)))\n",
    "\n",
    "# Thêm lớp Dropout để giảm hiện tượng overfitting\n",
    "model.add(layers.Dropout(0.5))\n",
    "\n",
    "# Thêm lớp Convolutional Layer với 64 bộ lọc kích thước 3x3 và hàm kích hoạt ReLU\n",
    "model.add(layers.Conv2D(64, (3, 3), activation='relu', padding='same'))\n",
    "\n",
    "# Thêm lớp Convolutional Layer với 64 bộ lọc kích thước 3x3 và hàm kích hoạt ReLU\n",
    "model.add(layers.Conv2D(64, (3, 3), activation='relu', padding='same'))\n",
    "\n",
    "# Thêm lớp Max Pooling 2D để giảm kích thước đầu vào đi 2 lần\n",
    "model.add(layers.MaxPooling2D((2, 2)))\n",
    "\n",
    "# Thêm lớp Flatten để làm phẳng đầu ra của lớp trước khi đi vào các lớp fully connected\n",
    "model.add(layers.Flatten())\n",
    "\n",
    "# Thêm lớp fully connected (Dense Layer) với 64 units và hàm kích hoạt ReLU\n",
    "model.add(layers.Dense(64, activation='relu'))\n",
    "\n",
    "# Thêm lớp Dropout để giảm hiện tượng overfitting\n",
    "model.add(layers.Dropout(0.5))\n",
    "\n",
    "# Thêm lớp fully connected (Dense Layer) cuối cùng với số lớp đầu ra phụ thuộc vào bài toán của bạn\n",
    "model.add(layers.Dense(5, activation='softmax'))\n",
    "\n",
    "# In thông tin mô hình\n",
    "model.summary()\n",
    "\n",
    "# Biên dịch mô hình\n",
    "model.compile(optimizer='adam', loss='sparse_categorical_crossentropy', metrics=['accuracy'])\n"
   ]
  },
  {
   "cell_type": "code",
   "execution_count": 4,
   "id": "0bb49b47-5ea7-4244-aa3d-2a4772173c63",
   "metadata": {},
   "outputs": [
    {
     "name": "stdout",
     "output_type": "stream",
     "text": [
      "Epoch 1/10\n",
      "412/412 [==============================] - 55s 130ms/step - loss: 1.0276 - accuracy: 0.5716 - val_loss: 0.5353 - val_accuracy: 0.8310\n",
      "Epoch 2/10\n",
      "412/412 [==============================] - 53s 129ms/step - loss: 0.6916 - accuracy: 0.7146 - val_loss: 0.4738 - val_accuracy: 0.8451\n",
      "Epoch 3/10\n",
      "412/412 [==============================] - 53s 129ms/step - loss: 0.5974 - accuracy: 0.7620 - val_loss: 0.3801 - val_accuracy: 0.8604\n",
      "Epoch 4/10\n",
      "412/412 [==============================] - 53s 128ms/step - loss: 0.5439 - accuracy: 0.7837 - val_loss: 0.3638 - val_accuracy: 0.8602\n",
      "Epoch 5/10\n",
      "412/412 [==============================] - 54s 130ms/step - loss: 0.5092 - accuracy: 0.7963 - val_loss: 0.3385 - val_accuracy: 0.8657\n",
      "Epoch 6/10\n",
      "412/412 [==============================] - 62s 152ms/step - loss: 0.4811 - accuracy: 0.8052 - val_loss: 0.2973 - val_accuracy: 0.8773\n",
      "Epoch 7/10\n",
      "412/412 [==============================] - 61s 148ms/step - loss: 0.4707 - accuracy: 0.8107 - val_loss: 0.3102 - val_accuracy: 0.8714\n",
      "Epoch 8/10\n",
      "412/412 [==============================] - 65s 158ms/step - loss: 0.4586 - accuracy: 0.8198 - val_loss: 0.2851 - val_accuracy: 0.8890\n",
      "Epoch 9/10\n",
      "412/412 [==============================] - 57s 139ms/step - loss: 0.4475 - accuracy: 0.8242 - val_loss: 0.2845 - val_accuracy: 0.8864\n",
      "Epoch 10/10\n",
      "412/412 [==============================] - 57s 139ms/step - loss: 0.4375 - accuracy: 0.8253 - val_loss: 0.2667 - val_accuracy: 0.8976\n"
     ]
    },
    {
     "data": {
      "text/plain": [
       "<keras.src.callbacks.History at 0x1db1cedb390>"
      ]
     },
     "execution_count": 4,
     "metadata": {},
     "output_type": "execute_result"
    }
   ],
   "source": [
    "model.fit(X, y, epochs=10, validation_data=(X, y))"
   ]
  },
  {
   "cell_type": "code",
   "execution_count": 5,
   "id": "4888fd11-ca3c-4f95-9d14-4e2a0b8c39b9",
   "metadata": {},
   "outputs": [],
   "source": [
    "# Đường dẫn đến file feather cần đọc\n",
    "file_path_test = 'GQUIC_small/dataset1/Test/test_Transfer_64.feather'\n",
    "\n",
    "# Đọc file feather\n",
    "df_test = pd.read_feather(file_path)"
   ]
  },
  {
   "cell_type": "code",
   "execution_count": 6,
   "id": "979b6cfa-427e-476c-b3e2-24901a223a00",
   "metadata": {},
   "outputs": [],
   "source": [
    "# Chọn cột '0' đến '127' cho mỗi flow_id và chuyển thành một danh sách các ma trận\n",
    "matrices_test = []\n",
    "labels_test = []\n",
    "for flow_id, group in df.groupby('flow_id'):\n",
    "    matrix = group.loc[:, '0':'63'].values\n",
    "    label = group['Label'].values[0] \n",
    "    matrices_test.append(matrix)\n",
    "    labels_test.append(label)\n",
    "\n",
    "# Chuyển danh sách ma trận thành mảng NumPy\n",
    "X_test = np.array(matrices_test)\n",
    "X_test = X_test / 255\n",
    "y_test = np.array(labels_test)"
   ]
  },
  {
   "cell_type": "code",
   "execution_count": 10,
   "id": "d12ec596-753a-40b3-9eee-43e80e7b664c",
   "metadata": {},
   "outputs": [
    {
     "name": "stdout",
     "output_type": "stream",
     "text": [
      "412/412 [==============================] - 19s 46ms/step - loss: 0.2667 - accuracy: 0.8976\n",
      "Độ chính xác trên tập kiểm tra: 89.76150751113892\n",
      "412/412 [==============================] - 19s 46ms/step\n",
      "Ma trận nhầm lẫn:\n",
      "[[2842    0    0    0    0]\n",
      " [   0 1848  161    9   16]\n",
      " [   6   49 2459    2  292]\n",
      " [   0  392   16 1330    2]\n",
      " [  23   56  324    0 3339]]\n",
      "Báo cáo phân loại:\n",
      "              precision    recall  f1-score   support\n",
      "\n",
      "           0       0.99      1.00      0.99      2842\n",
      "           1       0.79      0.91      0.84      2034\n",
      "           2       0.83      0.88      0.85      2808\n",
      "           3       0.99      0.76      0.86      1740\n",
      "           4       0.92      0.89      0.90      3742\n",
      "\n",
      "    accuracy                           0.90     13166\n",
      "   macro avg       0.90      0.89      0.89     13166\n",
      "weighted avg       0.90      0.90      0.90     13166\n",
      "\n"
     ]
    }
   ],
   "source": [
    "# Đánh giá mô hình trên tập kiểm tra\n",
    "test_loss, test_accuracy = model.evaluate(X_test, y_test)\n",
    "print(\"Độ chính xác trên tập kiểm tra:\", test_accuracy * 100)\n",
    "\n",
    "# Dự đoán các nhãn trên tập kiểm tra\n",
    "y_pred = model.predict(X_test)\n",
    "\n",
    "# Chuyển đổi dự đoán thành nhãn dự đoán (lớp dự đoán)\n",
    "y_pred_classes = np.argmax(y_pred, axis=1)\n",
    "\n",
    "# Hiển thị ma trận nhầm lẫn\n",
    "from sklearn.metrics import confusion_matrix, classification_report\n",
    "confusion = confusion_matrix(y_test, y_pred_classes)\n",
    "print(\"Ma trận nhầm lẫn:\")\n",
    "print(confusion)\n",
    "\n",
    "# Hiển thị báo cáo phân loại\n",
    "class_report = classification_report(y_test, y_pred_classes)\n",
    "print(\"Báo cáo phân loại:\")\n",
    "print(class_report)\n"
   ]
  },
  {
   "cell_type": "code",
   "execution_count": 8,
   "id": "518fdce0-9583-421b-a7ca-6f483b949864",
   "metadata": {
    "tags": []
   },
   "outputs": [
    {
     "name": "stdout",
     "output_type": "stream",
     "text": [
      "Số lần xuất hiện của lớp 0: 2871\n",
      "Số lần xuất hiện của lớp 1: 2345\n",
      "Số lần xuất hiện của lớp 2: 2960\n",
      "Số lần xuất hiện của lớp 3: 1341\n",
      "Số lần xuất hiện của lớp 4: 3649\n"
     ]
    }
   ],
   "source": [
    "# Đếm số lần xuất hiện của mỗi giá trị trong y_pred_classes\n",
    "counts = np.bincount(y_pred_classes)\n",
    "\n",
    "# Hiển thị kết quả\n",
    "for class_idx, count in enumerate(counts):\n",
    "    print(f\"Số lần xuất hiện của lớp {class_idx}: {count}\")"
   ]
  }
 ],
 "metadata": {
  "kernelspec": {
   "display_name": "Python 3 (ipykernel)",
   "language": "python",
   "name": "python3"
  },
  "language_info": {
   "codemirror_mode": {
    "name": "ipython",
    "version": 3
   },
   "file_extension": ".py",
   "mimetype": "text/x-python",
   "name": "python",
   "nbconvert_exporter": "python",
   "pygments_lexer": "ipython3",
   "version": "3.11.4"
  }
 },
 "nbformat": 4,
 "nbformat_minor": 5
}
