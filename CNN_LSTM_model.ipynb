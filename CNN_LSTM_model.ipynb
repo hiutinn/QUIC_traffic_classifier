{
 "cells": [
  {
   "cell_type": "markdown",
   "id": "02c50341-7df2-4251-b020-aecd6526029c",
   "metadata": {},
   "source": [
    "# Import thư viện"
   ]
  },
  {
   "cell_type": "code",
   "execution_count": 15,
   "id": "6e391bae-f81f-462c-ab4d-7d5f34bc79ec",
   "metadata": {},
   "outputs": [],
   "source": [
    "import numpy as np\n",
    "import tensorflow as tf\n",
    "from tensorflow.keras.models import Sequential\n",
    "from tensorflow.keras.layers import Conv1D, MaxPooling1D, LSTM, Dense, Flatten, Reshape"
   ]
  },
  {
   "cell_type": "markdown",
   "id": "0c028d9a-621a-4d7c-bae2-1166c664919f",
   "metadata": {},
   "source": [
    "# Đọc các biến từ file 128.ipynb"
   ]
  },
  {
   "cell_type": "code",
   "execution_count": 2,
   "id": "28c59b36-b4fc-4af9-ac51-291df7d4b454",
   "metadata": {},
   "outputs": [],
   "source": [
    "%store -r X\n",
    "%store -r y\n",
    "%store -r X_test\n",
    "%store -r y_test"
   ]
  },
  {
   "cell_type": "markdown",
   "id": "70be945b-054f-4add-b89f-6ff75d2bcf92",
   "metadata": {},
   "source": [
    "# Xây dựng mô hình"
   ]
  },
  {
   "cell_type": "code",
   "execution_count": 23,
   "id": "77d9947e-6398-4124-bc50-95a9b343744a",
   "metadata": {
    "collapsed": true,
    "jupyter": {
     "outputs_hidden": true
    },
    "tags": []
   },
   "outputs": [
    {
     "name": "stdout",
     "output_type": "stream",
     "text": [
      "Model: \"sequential_14\"\n",
      "_________________________________________________________________\n",
      " Layer (type)                Output Shape              Param #   \n",
      "=================================================================\n",
      " conv1d_6 (Conv1D)           (None, 20, 32)            20512     \n",
      "                                                                 \n",
      " max_pooling1d_4 (MaxPoolin  (None, 10, 32)            0         \n",
      " g1D)                                                            \n",
      "                                                                 \n",
      " lstm_7 (LSTM)               (None, 64)                24832     \n",
      "                                                                 \n",
      " flatten_3 (Flatten)         (None, 64)                0         \n",
      "                                                                 \n",
      " dense_4 (Dense)             (None, 32)                2080      \n",
      "                                                                 \n",
      " dense_5 (Dense)             (None, 5)                 165       \n",
      "                                                                 \n",
      "=================================================================\n",
      "Total params: 47589 (185.89 KB)\n",
      "Trainable params: 47589 (185.89 KB)\n",
      "Non-trainable params: 0 (0.00 Byte)\n",
      "_________________________________________________________________\n"
     ]
    }
   ],
   "source": [
    "# Xây dựng mô hình\n",
    "model = Sequential()\n",
    "\n",
    "# Layer Convolutional (CNN)\n",
    "model.add(Conv1D(32, kernel_size=(5), activation='relu', input_shape=(20, 128), padding='same'))\n",
    "model.add(MaxPooling1D(pool_size=(2)))\n",
    "\n",
    "# Layer LSTM\n",
    "model.add(LSTM(64, activation='relu'))\n",
    "\n",
    "# Thêm lớp Flatten để làm phẳng đầu ra của lớp trước khi đi vào các lớp fully connected\n",
    "model.add(Flatten())\n",
    "\n",
    "# Thêm lớp fully connected (Dense Layer) với 64 units và hàm kích hoạt ReLU\n",
    "model.add(Dense(32, activation='relu'))\n",
    "\n",
    "# Lớp Dense (có thể thay đổi theo bài toán cụ thể)\n",
    "model.add(Dense(5, activation='softmax'))\n",
    "\n",
    "# In thông tin mô hình\n",
    "model.summary()"
   ]
  },
  {
   "cell_type": "markdown",
   "id": "c48a702b-de55-4bf5-bb05-00a18048cbc5",
   "metadata": {},
   "source": [
    "# Biên dịch và huấn luyện mô hình"
   ]
  },
  {
   "cell_type": "code",
   "execution_count": 20,
   "id": "852ee229-a369-491a-9da4-f551ad794dcf",
   "metadata": {},
   "outputs": [
    {
     "name": "stdout",
     "output_type": "stream",
     "text": [
      "Epoch 1/10\n",
      "823/823 [==============================] - 8s 7ms/step - loss: 0.6555 - accuracy: 0.7494\n",
      "Epoch 2/10\n",
      "823/823 [==============================] - 6s 7ms/step - loss: 0.3604 - accuracy: 0.8680\n",
      "Epoch 3/10\n",
      "823/823 [==============================] - 6s 8ms/step - loss: 0.3005 - accuracy: 0.8858\n",
      "Epoch 4/10\n",
      "823/823 [==============================] - 6s 7ms/step - loss: 0.2628 - accuracy: 0.9009\n",
      "Epoch 5/10\n",
      "823/823 [==============================] - 6s 7ms/step - loss: 0.2341 - accuracy: 0.9123\n",
      "Epoch 6/10\n",
      "823/823 [==============================] - 6s 7ms/step - loss: 0.2159 - accuracy: 0.9187\n",
      "Epoch 7/10\n",
      "823/823 [==============================] - 6s 7ms/step - loss: 0.1988 - accuracy: 0.9240\n",
      "Epoch 8/10\n",
      "823/823 [==============================] - 6s 7ms/step - loss: 0.2019 - accuracy: 0.9237\n",
      "Epoch 9/10\n",
      "823/823 [==============================] - 6s 7ms/step - loss: 0.1710 - accuracy: 0.9337\n",
      "Epoch 10/10\n",
      "823/823 [==============================] - 6s 7ms/step - loss: 0.1659 - accuracy: 0.9370\n"
     ]
    },
    {
     "data": {
      "text/plain": [
       "<keras.src.callbacks.History at 0x22392995e10>"
      ]
     },
     "execution_count": 20,
     "metadata": {},
     "output_type": "execute_result"
    }
   ],
   "source": [
    "model.compile(optimizer='adam', loss='sparse_categorical_crossentropy', metrics=['accuracy'])\n",
    "model.fit(X, y, epochs=10, batch_size=16)"
   ]
  },
  {
   "cell_type": "markdown",
   "id": "b902753f-50a1-4489-8d03-81dd72ce1463",
   "metadata": {},
   "source": [
    "# Đánh giá mô hình"
   ]
  },
  {
   "cell_type": "code",
   "execution_count": 21,
   "id": "8c81fdf4-bf78-4fc3-a492-fc124bd904c7",
   "metadata": {
    "tags": []
   },
   "outputs": [
    {
     "name": "stdout",
     "output_type": "stream",
     "text": [
      "412/412 [==============================] - 2s 4ms/step - loss: 0.1445 - accuracy: 0.9452\n",
      "Độ chính xác trên tập kiểm tra: 0.9452377557754517\n",
      "412/412 [==============================] - 2s 4ms/step\n",
      "Ma trận nhầm lẫn:\n",
      "[[2842    0    0    0    0]\n",
      " [   0 1954    4   66   10]\n",
      " [   0   23 2632   13  140]\n",
      " [   0  191    8 1536    5]\n",
      " [   0   64  195    2 3481]]\n",
      "Báo cáo phân loại:\n",
      "              precision    recall  f1-score   support\n",
      "\n",
      "           0       1.00      1.00      1.00      2842\n",
      "           1       0.88      0.96      0.92      2034\n",
      "           2       0.93      0.94      0.93      2808\n",
      "           3       0.95      0.88      0.92      1740\n",
      "           4       0.96      0.93      0.94      3742\n",
      "\n",
      "    accuracy                           0.95     13166\n",
      "   macro avg       0.94      0.94      0.94     13166\n",
      "weighted avg       0.95      0.95      0.95     13166\n",
      "\n"
     ]
    }
   ],
   "source": [
    "# Đánh giá mô hình trên tập kiểm tra\n",
    "test_loss, test_accuracy = model.evaluate(X_test, y_test)\n",
    "print(\"Độ chính xác trên tập kiểm tra:\", test_accuracy)\n",
    "\n",
    "# Dự đoán các nhãn trên tập kiểm tra\n",
    "y_pred = model.predict(X_test)\n",
    "\n",
    "# Chuyển đổi dự đoán thành nhãn dự đoán (lớp dự đoán)\n",
    "y_pred_classes = np.argmax(y_pred, axis=1)\n",
    "\n",
    "# Hiển thị ma trận nhầm lẫn\n",
    "from sklearn.metrics import confusion_matrix, classification_report\n",
    "confusion = confusion_matrix(y_test, y_pred_classes)\n",
    "print(\"Ma trận nhầm lẫn:\")\n",
    "print(confusion)\n",
    "\n",
    "# Hiển thị báo cáo phân loại\n",
    "class_report = classification_report(y_test, y_pred_classes)\n",
    "print(\"Báo cáo phân loại:\")\n",
    "print(class_report)"
   ]
  },
  {
   "cell_type": "code",
   "execution_count": null,
   "id": "b29a6f2e-8fd3-485a-b02f-9d12e20463ad",
   "metadata": {},
   "outputs": [],
   "source": []
  }
 ],
 "metadata": {
  "kernelspec": {
   "display_name": "Python 3 (ipykernel)",
   "language": "python",
   "name": "python3"
  },
  "language_info": {
   "codemirror_mode": {
    "name": "ipython",
    "version": 3
   },
   "file_extension": ".py",
   "mimetype": "text/x-python",
   "name": "python",
   "nbconvert_exporter": "python",
   "pygments_lexer": "ipython3",
   "version": "3.11.4"
  }
 },
 "nbformat": 4,
 "nbformat_minor": 5
}
