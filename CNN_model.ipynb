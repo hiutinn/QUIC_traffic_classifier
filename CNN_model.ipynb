{
 "cells": [
  {
   "cell_type": "code",
   "execution_count": 1,
   "id": "6156bc5a-2e8c-4b07-81de-facf1d7b4e61",
   "metadata": {
    "tags": []
   },
   "outputs": [],
   "source": [
    "import numpy as np"
   ]
  },
  {
   "cell_type": "code",
   "execution_count": 2,
   "id": "1fdc1036-15e2-4956-80f1-f990a1a00c1c",
   "metadata": {
    "tags": []
   },
   "outputs": [],
   "source": [
    "%store -r X\n",
    "%store -r y\n",
    "%store -r X_test\n",
    "%store -r y_test"
   ]
  },
  {
   "cell_type": "markdown",
   "id": "4d53ee1a-2408-4b74-8600-32c641a74573",
   "metadata": {},
   "source": [
    "# Xây dựng mô hình CNN"
   ]
  },
  {
   "cell_type": "code",
   "execution_count": 3,
   "id": "6e8e4deb-cea6-4a29-8699-ffe0e451058c",
   "metadata": {},
   "outputs": [
    {
     "name": "stdout",
     "output_type": "stream",
     "text": [
      "Model: \"sequential\"\n",
      "_________________________________________________________________\n",
      " Layer (type)                Output Shape              Param #   \n",
      "=================================================================\n",
      " conv2d (Conv2D)             (None, 20, 128, 32)       832       \n",
      "                                                                 \n",
      " conv2d_1 (Conv2D)           (None, 20, 128, 32)       25632     \n",
      "                                                                 \n",
      " max_pooling2d (MaxPooling2  (None, 10, 64, 32)        0         \n",
      " D)                                                              \n",
      "                                                                 \n",
      " dropout (Dropout)           (None, 10, 64, 32)        0         \n",
      "                                                                 \n",
      " conv2d_2 (Conv2D)           (None, 10, 64, 64)        51264     \n",
      "                                                                 \n",
      " conv2d_3 (Conv2D)           (None, 10, 64, 64)        102464    \n",
      "                                                                 \n",
      " max_pooling2d_1 (MaxPoolin  (None, 5, 32, 64)         0         \n",
      " g2D)                                                            \n",
      "                                                                 \n",
      " flatten (Flatten)           (None, 10240)             0         \n",
      "                                                                 \n",
      " dense (Dense)               (None, 64)                655424    \n",
      "                                                                 \n",
      " dropout_1 (Dropout)         (None, 64)                0         \n",
      "                                                                 \n",
      " dense_1 (Dense)             (None, 5)                 325       \n",
      "                                                                 \n",
      "=================================================================\n",
      "Total params: 835941 (3.19 MB)\n",
      "Trainable params: 835941 (3.19 MB)\n",
      "Non-trainable params: 0 (0.00 Byte)\n",
      "_________________________________________________________________\n"
     ]
    }
   ],
   "source": [
    "import tensorflow as tf\n",
    "from tensorflow import keras\n",
    "from tensorflow.keras import layers\n",
    "\n",
    "# Khởi tạo mô hình\n",
    "model = keras.Sequential()\n",
    "\n",
    "# Thêm lớp Convolutional Layer với 32 bộ lọc kích thước 3x3 và hàm kích hoạt ReLU\n",
    "model.add(layers.Conv2D(32, (5, 5), activation='relu', input_shape=(20, 128, 1), padding='same'))\n",
    "\n",
    "# Thêm lớp Convolutional Layer với 32 bộ lọc kích thước 3x3 và hàm kích hoạt ReLU\n",
    "model.add(layers.Conv2D(32, (5,5), activation='relu', padding='same'))\n",
    "\n",
    "# Thêm lớp Max Pooling 2D để giảm kích thước đầu vào đi 2 lần\n",
    "model.add(layers.MaxPooling2D((2, 2)))\n",
    "\n",
    "# Thêm lớp Dropout để giảm hiện tượng overfitting\n",
    "model.add(layers.Dropout(0.5))\n",
    "\n",
    "# Thêm lớp Convolutional Layer với 64 bộ lọc kích thước 3x3 và hàm kích hoạt ReLU\n",
    "model.add(layers.Conv2D(64, (5, 5), activation='relu', padding='same'))\n",
    "\n",
    "# Thêm lớp Convolutional Layer với 64 bộ lọc kích thước 3x3 và hàm kích hoạt ReLU\n",
    "model.add(layers.Conv2D(64, (5, 5), activation='relu', padding='same'))\n",
    "\n",
    "# Thêm lớp Max Pooling 2D để giảm kích thước đầu vào đi 2 lần\n",
    "model.add(layers.MaxPooling2D((2, 2)))\n",
    "\n",
    "# Thêm lớp Flatten để làm phẳng đầu ra của lớp trước khi đi vào các lớp fully connected\n",
    "model.add(layers.Flatten())\n",
    "\n",
    "# Thêm lớp fully connected (Dense Layer) với 64 units và hàm kích hoạt ReLU\n",
    "model.add(layers.Dense(64, activation='relu'))\n",
    "\n",
    "# Thêm lớp Dropout để giảm hiện tượng overfitting\n",
    "model.add(layers.Dropout(0.5))\n",
    "\n",
    "# Thêm lớp fully connected (Dense Layer) cuối cùng với số lớp đầu ra phụ thuộc vào bài toán của bạn\n",
    "model.add(layers.Dense(5, activation='softmax'))\n",
    "\n",
    "# In thông tin mô hình\n",
    "model.summary()\n",
    "\n",
    "# Biên dịch mô hình\n",
    "model.compile(optimizer='adam', loss='sparse_categorical_crossentropy', metrics=['accuracy'])\n"
   ]
  },
  {
   "cell_type": "code",
   "execution_count": 4,
   "id": "40d77d09-c2e1-4ff4-88c2-a8460aa55fed",
   "metadata": {},
   "outputs": [
    {
     "name": "stdout",
     "output_type": "stream",
     "text": [
      "Epoch 1/10\n",
      "412/412 [==============================] - 244s 588ms/step - loss: 0.9634 - accuracy: 0.6186 - val_loss: 0.4748 - val_accuracy: 0.8674\n",
      "Epoch 2/10\n",
      "412/412 [==============================] - 224s 545ms/step - loss: 0.5657 - accuracy: 0.7937 - val_loss: 0.3299 - val_accuracy: 0.8895\n",
      "Epoch 3/10\n",
      "412/412 [==============================] - 207s 502ms/step - loss: 0.4785 - accuracy: 0.8262 - val_loss: 0.2792 - val_accuracy: 0.8938\n",
      "Epoch 4/10\n",
      "412/412 [==============================] - 208s 504ms/step - loss: 0.4339 - accuracy: 0.8365 - val_loss: 0.2436 - val_accuracy: 0.9096\n",
      "Epoch 5/10\n",
      "412/412 [==============================] - 208s 505ms/step - loss: 0.3990 - accuracy: 0.8533 - val_loss: 0.2514 - val_accuracy: 0.9112\n",
      "Epoch 6/10\n",
      "412/412 [==============================] - 209s 507ms/step - loss: 0.3865 - accuracy: 0.8587 - val_loss: 0.2299 - val_accuracy: 0.9202\n",
      "Epoch 7/10\n",
      "412/412 [==============================] - 209s 506ms/step - loss: 0.3643 - accuracy: 0.8676 - val_loss: 0.2241 - val_accuracy: 0.9199\n",
      "Epoch 8/10\n",
      "412/412 [==============================] - 209s 507ms/step - loss: 0.3410 - accuracy: 0.8751 - val_loss: 0.2262 - val_accuracy: 0.9243\n",
      "Epoch 9/10\n",
      "412/412 [==============================] - 228s 555ms/step - loss: 0.3319 - accuracy: 0.8762 - val_loss: 0.2102 - val_accuracy: 0.9146\n",
      "Epoch 10/10\n",
      "412/412 [==============================] - 242s 587ms/step - loss: 0.3247 - accuracy: 0.8785 - val_loss: 0.1790 - val_accuracy: 0.9313\n"
     ]
    },
    {
     "data": {
      "text/plain": [
       "<keras.src.callbacks.History at 0x177ac648a90>"
      ]
     },
     "execution_count": 4,
     "metadata": {},
     "output_type": "execute_result"
    }
   ],
   "source": [
    "model.fit(X, y, epochs=10, validation_data=(X, y))"
   ]
  },
  {
   "cell_type": "code",
   "execution_count": 5,
   "id": "e58f5d88-0f95-4866-aa6b-243adda7b713",
   "metadata": {},
   "outputs": [
    {
     "name": "stdout",
     "output_type": "stream",
     "text": [
      "412/412 [==============================] - 27s 66ms/step - loss: 0.1790 - accuracy: 0.9313\n",
      "Độ chính xác trên tập kiểm tra: 0.9313383102416992\n",
      "412/412 [==============================] - 27s 66ms/step\n",
      "Ma trận nhầm lẫn:\n",
      "[[2842    0    0    0    0]\n",
      " [   0 1998   10    1   25]\n",
      " [   0   20 2664    0  124]\n",
      " [   0  425   11 1296    8]\n",
      " [   0   16  264    0 3462]]\n",
      "Báo cáo phân loại:\n",
      "              precision    recall  f1-score   support\n",
      "\n",
      "           0       1.00      1.00      1.00      2842\n",
      "           1       0.81      0.98      0.89      2034\n",
      "           2       0.90      0.95      0.93      2808\n",
      "           3       1.00      0.74      0.85      1740\n",
      "           4       0.96      0.93      0.94      3742\n",
      "\n",
      "    accuracy                           0.93     13166\n",
      "   macro avg       0.93      0.92      0.92     13166\n",
      "weighted avg       0.94      0.93      0.93     13166\n",
      "\n"
     ]
    }
   ],
   "source": [
    "# Đánh giá mô hình trên tập kiểm tra\n",
    "test_loss, test_accuracy = model.evaluate(X_test, y_test)\n",
    "print(\"Độ chính xác trên tập kiểm tra:\", test_accuracy)\n",
    "\n",
    "# Dự đoán các nhãn trên tập kiểm tra\n",
    "y_pred = model.predict(X_test)\n",
    "\n",
    "# Chuyển đổi dự đoán thành nhãn dự đoán (lớp dự đoán)\n",
    "y_pred_classes = np.argmax(y_pred, axis=1)\n",
    "\n",
    "# Hiển thị ma trận nhầm lẫn\n",
    "from sklearn.metrics import confusion_matrix, classification_report\n",
    "confusion = confusion_matrix(y_test, y_pred_classes)\n",
    "print(\"Ma trận nhầm lẫn:\")\n",
    "print(confusion)\n",
    "\n",
    "# Hiển thị báo cáo phân loại\n",
    "class_report = classification_report(y_test, y_pred_classes)\n",
    "print(\"Báo cáo phân loại:\")\n",
    "print(class_report)\n"
   ]
  },
  {
   "cell_type": "code",
   "execution_count": null,
   "id": "57393e21-e5ba-4f9f-bc23-bf4ad9e8ac50",
   "metadata": {},
   "outputs": [],
   "source": []
  }
 ],
 "metadata": {
  "kernelspec": {
   "display_name": "Python 3 (ipykernel)",
   "language": "python",
   "name": "python3"
  },
  "language_info": {
   "codemirror_mode": {
    "name": "ipython",
    "version": 3
   },
   "file_extension": ".py",
   "mimetype": "text/x-python",
   "name": "python",
   "nbconvert_exporter": "python",
   "pygments_lexer": "ipython3",
   "version": "3.11.4"
  }
 },
 "nbformat": 4,
 "nbformat_minor": 5
}
